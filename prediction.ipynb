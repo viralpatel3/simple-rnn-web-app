{
 "cells": [
  {
   "cell_type": "markdown",
   "metadata": {},
   "source": [
    "# Step 1: Import Libraries and Load the Model"
   ]
  },
  {
   "cell_type": "code",
   "execution_count": 2,
   "metadata": {},
   "outputs": [],
   "source": [
    "import numpy as np\n",
    "import tensorflow as tf\n",
    "from tensorflow.keras.datasets import imdb\n",
    "from tensorflow.keras.preprocessing import sequence\n",
    "from tensorflow.keras.models import load_model"
   ]
  },
  {
   "cell_type": "markdown",
   "metadata": {},
   "source": [
    "### Get training Artifacts"
   ]
  },
  {
   "cell_type": "code",
   "execution_count": 3,
   "metadata": {},
   "outputs": [],
   "source": [
    "word_index = imdb.get_word_index()\n",
    "reverse_word_index = {value: key for key, value in word_index.items()}"
   ]
  },
  {
   "cell_type": "markdown",
   "metadata": {},
   "source": [
    "### Load model"
   ]
  },
  {
   "cell_type": "code",
   "execution_count": 5,
   "metadata": {},
   "outputs": [
    {
     "name": "stderr",
     "output_type": "stream",
     "text": [
      "WARNING:absl:Compiled the loaded model, but the compiled metrics have yet to be built. `model.compile_metrics` will be empty until you train or evaluate the model.\n"
     ]
    },
    {
     "data": {
      "text/html": [
       "<pre style=\"white-space:pre;overflow-x:auto;line-height:normal;font-family:Menlo,'DejaVu Sans Mono',consolas,'Courier New',monospace\"><span style=\"font-weight: bold\">Model: \"sequential_3\"</span>\n",
       "</pre>\n"
      ],
      "text/plain": [
       "\u001b[1mModel: \"sequential_3\"\u001b[0m\n"
      ]
     },
     "metadata": {},
     "output_type": "display_data"
    },
    {
     "data": {
      "text/html": [
       "<pre style=\"white-space:pre;overflow-x:auto;line-height:normal;font-family:Menlo,'DejaVu Sans Mono',consolas,'Courier New',monospace\">┏━━━━━━━━━━━━━━━━━━━━━━━━━━━━━━━━━┳━━━━━━━━━━━━━━━━━━━━━━━━┳━━━━━━━━━━━━━━━┓\n",
       "┃<span style=\"font-weight: bold\"> Layer (type)                    </span>┃<span style=\"font-weight: bold\"> Output Shape           </span>┃<span style=\"font-weight: bold\">       Param # </span>┃\n",
       "┡━━━━━━━━━━━━━━━━━━━━━━━━━━━━━━━━━╇━━━━━━━━━━━━━━━━━━━━━━━━╇━━━━━━━━━━━━━━━┩\n",
       "│ embedding_3 (<span style=\"color: #0087ff; text-decoration-color: #0087ff\">Embedding</span>)         │ (<span style=\"color: #00d7ff; text-decoration-color: #00d7ff\">None</span>, <span style=\"color: #00af00; text-decoration-color: #00af00\">500</span>, <span style=\"color: #00af00; text-decoration-color: #00af00\">128</span>)       │     <span style=\"color: #00af00; text-decoration-color: #00af00\">1,280,000</span> │\n",
       "├─────────────────────────────────┼────────────────────────┼───────────────┤\n",
       "│ simple_rnn_3 (<span style=\"color: #0087ff; text-decoration-color: #0087ff\">SimpleRNN</span>)        │ (<span style=\"color: #00d7ff; text-decoration-color: #00d7ff\">None</span>, <span style=\"color: #00af00; text-decoration-color: #00af00\">128</span>)            │        <span style=\"color: #00af00; text-decoration-color: #00af00\">32,896</span> │\n",
       "├─────────────────────────────────┼────────────────────────┼───────────────┤\n",
       "│ dense_3 (<span style=\"color: #0087ff; text-decoration-color: #0087ff\">Dense</span>)                 │ (<span style=\"color: #00d7ff; text-decoration-color: #00d7ff\">None</span>, <span style=\"color: #00af00; text-decoration-color: #00af00\">1</span>)              │           <span style=\"color: #00af00; text-decoration-color: #00af00\">129</span> │\n",
       "└─────────────────────────────────┴────────────────────────┴───────────────┘\n",
       "</pre>\n"
      ],
      "text/plain": [
       "┏━━━━━━━━━━━━━━━━━━━━━━━━━━━━━━━━━┳━━━━━━━━━━━━━━━━━━━━━━━━┳━━━━━━━━━━━━━━━┓\n",
       "┃\u001b[1m \u001b[0m\u001b[1mLayer (type)                   \u001b[0m\u001b[1m \u001b[0m┃\u001b[1m \u001b[0m\u001b[1mOutput Shape          \u001b[0m\u001b[1m \u001b[0m┃\u001b[1m \u001b[0m\u001b[1m      Param #\u001b[0m\u001b[1m \u001b[0m┃\n",
       "┡━━━━━━━━━━━━━━━━━━━━━━━━━━━━━━━━━╇━━━━━━━━━━━━━━━━━━━━━━━━╇━━━━━━━━━━━━━━━┩\n",
       "│ embedding_3 (\u001b[38;5;33mEmbedding\u001b[0m)         │ (\u001b[38;5;45mNone\u001b[0m, \u001b[38;5;34m500\u001b[0m, \u001b[38;5;34m128\u001b[0m)       │     \u001b[38;5;34m1,280,000\u001b[0m │\n",
       "├─────────────────────────────────┼────────────────────────┼───────────────┤\n",
       "│ simple_rnn_3 (\u001b[38;5;33mSimpleRNN\u001b[0m)        │ (\u001b[38;5;45mNone\u001b[0m, \u001b[38;5;34m128\u001b[0m)            │        \u001b[38;5;34m32,896\u001b[0m │\n",
       "├─────────────────────────────────┼────────────────────────┼───────────────┤\n",
       "│ dense_3 (\u001b[38;5;33mDense\u001b[0m)                 │ (\u001b[38;5;45mNone\u001b[0m, \u001b[38;5;34m1\u001b[0m)              │           \u001b[38;5;34m129\u001b[0m │\n",
       "└─────────────────────────────────┴────────────────────────┴───────────────┘\n"
      ]
     },
     "metadata": {},
     "output_type": "display_data"
    },
    {
     "data": {
      "text/html": [
       "<pre style=\"white-space:pre;overflow-x:auto;line-height:normal;font-family:Menlo,'DejaVu Sans Mono',consolas,'Courier New',monospace\"><span style=\"font-weight: bold\"> Total params: </span><span style=\"color: #00af00; text-decoration-color: #00af00\">1,313,027</span> (5.01 MB)\n",
       "</pre>\n"
      ],
      "text/plain": [
       "\u001b[1m Total params: \u001b[0m\u001b[38;5;34m1,313,027\u001b[0m (5.01 MB)\n"
      ]
     },
     "metadata": {},
     "output_type": "display_data"
    },
    {
     "data": {
      "text/html": [
       "<pre style=\"white-space:pre;overflow-x:auto;line-height:normal;font-family:Menlo,'DejaVu Sans Mono',consolas,'Courier New',monospace\"><span style=\"font-weight: bold\"> Trainable params: </span><span style=\"color: #00af00; text-decoration-color: #00af00\">1,313,025</span> (5.01 MB)\n",
       "</pre>\n"
      ],
      "text/plain": [
       "\u001b[1m Trainable params: \u001b[0m\u001b[38;5;34m1,313,025\u001b[0m (5.01 MB)\n"
      ]
     },
     "metadata": {},
     "output_type": "display_data"
    },
    {
     "data": {
      "text/html": [
       "<pre style=\"white-space:pre;overflow-x:auto;line-height:normal;font-family:Menlo,'DejaVu Sans Mono',consolas,'Courier New',monospace\"><span style=\"font-weight: bold\"> Non-trainable params: </span><span style=\"color: #00af00; text-decoration-color: #00af00\">0</span> (0.00 B)\n",
       "</pre>\n"
      ],
      "text/plain": [
       "\u001b[1m Non-trainable params: \u001b[0m\u001b[38;5;34m0\u001b[0m (0.00 B)\n"
      ]
     },
     "metadata": {},
     "output_type": "display_data"
    },
    {
     "data": {
      "text/html": [
       "<pre style=\"white-space:pre;overflow-x:auto;line-height:normal;font-family:Menlo,'DejaVu Sans Mono',consolas,'Courier New',monospace\"><span style=\"font-weight: bold\"> Optimizer params: </span><span style=\"color: #00af00; text-decoration-color: #00af00\">2</span> (12.00 B)\n",
       "</pre>\n"
      ],
      "text/plain": [
       "\u001b[1m Optimizer params: \u001b[0m\u001b[38;5;34m2\u001b[0m (12.00 B)\n"
      ]
     },
     "metadata": {},
     "output_type": "display_data"
    }
   ],
   "source": [
    "# Load the pre-trained model with ReLU activation\n",
    "model = load_model('simple_rnn_imdb.h5')\n",
    "model.summary()"
   ]
  },
  {
   "cell_type": "code",
   "execution_count": 6,
   "metadata": {},
   "outputs": [
    {
     "data": {
      "text/plain": [
       "[array([[-0.15573286, -0.28256196, -0.31745094, ...,  0.3360213 ,\n",
       "         -0.30327675,  0.32285202],\n",
       "        [ 0.00567091,  0.01644974, -0.01489075, ...,  0.00910601,\n",
       "         -0.07912442, -0.01756592],\n",
       "        [-0.06419864, -0.09301388,  0.00980791, ..., -0.02481687,\n",
       "         -0.06366622, -0.0116356 ],\n",
       "        ...,\n",
       "        [ 0.0738524 , -0.00343282,  0.03026944, ..., -0.06293982,\n",
       "          0.00824508, -0.03843718],\n",
       "        [-0.08830023,  0.11942571, -0.02716835, ...,  0.11493094,\n",
       "          0.12306924, -0.09503903],\n",
       "        [ 0.05227983, -0.00454063,  0.07205098, ..., -0.02158988,\n",
       "          0.10438599,  0.02154583]], dtype=float32),\n",
       " array([[ 0.02147042,  0.10295086,  0.14128082, ..., -0.09539572,\n",
       "         -0.03476927,  0.09904375],\n",
       "        [ 0.0435546 , -0.09923194,  0.17971376, ...,  0.10075565,\n",
       "         -0.06116289,  0.09451769],\n",
       "        [-0.09450573,  0.12724115, -0.12715724, ...,  0.13697208,\n",
       "          0.04365328,  0.06536682],\n",
       "        ...,\n",
       "        [-0.13389024,  0.00892976, -0.04344032, ...,  0.01467919,\n",
       "         -0.08583631, -0.07685956],\n",
       "        [ 0.11083527,  0.04015973,  0.1679579 , ..., -0.00116716,\n",
       "          0.06546995, -0.07351846],\n",
       "        [-0.13760117,  0.00093468, -0.03608429, ..., -0.05244354,\n",
       "         -0.09840628,  0.12929496]], dtype=float32),\n",
       " array([[ 0.17243679,  0.01458778,  0.14486842, ...,  0.03717134,\n",
       "         -0.06617508, -0.06534906],\n",
       "        [ 0.0244099 ,  0.09179914,  0.04699671, ...,  0.00606768,\n",
       "          0.09971694,  0.06785964],\n",
       "        [ 0.05509041,  0.10698432,  0.04545632, ..., -0.03689926,\n",
       "          0.02394657,  0.138298  ],\n",
       "        ...,\n",
       "        [-0.05143309,  0.06846704,  0.01406186, ..., -0.01422869,\n",
       "         -0.00683014, -0.00514084],\n",
       "        [ 0.06083705, -0.14825593,  0.0880838 , ...,  0.01024441,\n",
       "         -0.01321598, -0.07329842],\n",
       "        [ 0.00393623, -0.04226093,  0.08113564, ...,  0.05186408,\n",
       "         -0.01237242, -0.10005654]], dtype=float32),\n",
       " array([-0.01470657,  0.00144671,  0.00181609, -0.00860722, -0.00329878,\n",
       "         0.03438826, -0.00956517, -0.01242492, -0.00486844, -0.00481035,\n",
       "         0.00131444, -0.01079192, -0.00397502, -0.02229649,  0.00195207,\n",
       "        -0.00863724, -0.01054721, -0.01306305,  0.007383  ,  0.01355257,\n",
       "         0.01241351, -0.0087223 ,  0.0116395 , -0.01180538,  0.00981007,\n",
       "         0.01326616, -0.00797906,  0.00654349,  0.00269701, -0.00983297,\n",
       "        -0.00913532, -0.00039827, -0.00831887, -0.00503094,  0.02645797,\n",
       "        -0.02445222, -0.01863686,  0.01894852,  0.012371  ,  0.0045173 ,\n",
       "         0.01073208,  0.00022998,  0.00507053, -0.00891354,  0.00759911,\n",
       "         0.02873865,  0.00958153,  0.01630997, -0.01306464, -0.01064737,\n",
       "        -0.00428232, -0.02755769,  0.00292217,  0.00096419, -0.00613924,\n",
       "        -0.01323072,  0.00643448, -0.0027838 ,  0.01254414, -0.01412649,\n",
       "         0.00075709, -0.01513611,  0.03763177,  0.00349278, -0.00322995,\n",
       "        -0.00166457, -0.00189999, -0.01375191, -0.02432001,  0.01069099,\n",
       "        -0.01534198,  0.00718625,  0.00594163, -0.00437724,  0.00606749,\n",
       "        -0.00798516,  0.00818266, -0.01091929, -0.01431961, -0.01165872,\n",
       "        -0.00825614, -0.02365213,  0.00056558, -0.02001952, -0.00766589,\n",
       "        -0.00616708, -0.02530643, -0.00794155, -0.00700609,  0.01172763,\n",
       "         0.01932496,  0.0170303 ,  0.01924586,  0.01975462, -0.02035936,\n",
       "         0.00289001,  0.01331275, -0.01276878, -0.00680582,  0.01535623,\n",
       "        -0.00724574, -0.0277851 ,  0.01120006, -0.00247548, -0.01095846,\n",
       "         0.0047632 ,  0.01349605, -0.01495667, -0.00878573,  0.0039433 ,\n",
       "         0.00685718, -0.01591967,  0.00419929, -0.01601755,  0.021063  ,\n",
       "        -0.00856531, -0.01090568,  0.0235048 ,  0.02336027, -0.00838586,\n",
       "        -0.0153519 , -0.01020371, -0.00207801, -0.00309119,  0.01137916,\n",
       "        -0.00840864,  0.01272896, -0.01070301], dtype=float32),\n",
       " array([[ 0.49196753],\n",
       "        [ 0.16073494],\n",
       "        [-0.19995232],\n",
       "        [ 0.28049195],\n",
       "        [-0.25294217],\n",
       "        [ 0.2117597 ],\n",
       "        [ 0.04323943],\n",
       "        [-0.09591178],\n",
       "        [-0.05284476],\n",
       "        [-0.03384255],\n",
       "        [ 0.42223385],\n",
       "        [ 0.20393793],\n",
       "        [ 0.0839126 ],\n",
       "        [ 0.04594295],\n",
       "        [-0.10903729],\n",
       "        [-0.04233536],\n",
       "        [ 0.10306205],\n",
       "        [-0.5577008 ],\n",
       "        [-0.10710537],\n",
       "        [ 0.00801488],\n",
       "        [-0.06242945],\n",
       "        [ 0.2310672 ],\n",
       "        [-0.05323343],\n",
       "        [ 0.098396  ],\n",
       "        [ 0.12467039],\n",
       "        [-0.03296761],\n",
       "        [-0.20664304],\n",
       "        [-0.58449525],\n",
       "        [ 0.23929647],\n",
       "        [-0.11397653],\n",
       "        [ 0.06348679],\n",
       "        [-0.09587329],\n",
       "        [-0.01460113],\n",
       "        [-0.2003454 ],\n",
       "        [ 0.08346045],\n",
       "        [ 0.15046103],\n",
       "        [ 0.37048724],\n",
       "        [-0.00403501],\n",
       "        [ 0.04208827],\n",
       "        [ 0.13510212],\n",
       "        [ 0.17936496],\n",
       "        [-0.44802016],\n",
       "        [-0.05814158],\n",
       "        [-0.03227971],\n",
       "        [ 0.06010047],\n",
       "        [ 0.1854536 ],\n",
       "        [-0.02799435],\n",
       "        [-0.11037389],\n",
       "        [-0.1630955 ],\n",
       "        [-0.18949494],\n",
       "        [ 0.12981588],\n",
       "        [-0.00210125],\n",
       "        [ 0.26551569],\n",
       "        [ 0.54750717],\n",
       "        [ 0.2029291 ],\n",
       "        [ 0.3123923 ],\n",
       "        [ 0.16851899],\n",
       "        [ 0.30985844],\n",
       "        [-0.08770797],\n",
       "        [ 0.36632097],\n",
       "        [ 0.05737342],\n",
       "        [-0.12380978],\n",
       "        [ 0.20548962],\n",
       "        [ 0.02422892],\n",
       "        [-0.14505322],\n",
       "        [-0.36278814],\n",
       "        [-0.21899861],\n",
       "        [-0.1339038 ],\n",
       "        [-0.0349797 ],\n",
       "        [-0.8764128 ],\n",
       "        [ 0.18180475],\n",
       "        [-0.07423128],\n",
       "        [-0.17069471],\n",
       "        [-0.05734877],\n",
       "        [-0.19686402],\n",
       "        [-0.46681723],\n",
       "        [ 0.6415117 ],\n",
       "        [-0.2792043 ],\n",
       "        [-0.1610918 ],\n",
       "        [-0.60996944],\n",
       "        [-0.04879007],\n",
       "        [ 0.17519887],\n",
       "        [ 0.2562771 ],\n",
       "        [-0.6724094 ],\n",
       "        [-0.13862216],\n",
       "        [-0.16087355],\n",
       "        [-0.07637987],\n",
       "        [-0.07984334],\n",
       "        [-0.15051284],\n",
       "        [-0.19763117],\n",
       "        [ 0.1102687 ],\n",
       "        [-0.6082039 ],\n",
       "        [-0.00909544],\n",
       "        [-0.05422704],\n",
       "        [ 0.17160386],\n",
       "        [-0.13425626],\n",
       "        [ 0.17768157],\n",
       "        [-0.17128599],\n",
       "        [-0.15670176],\n",
       "        [-0.01663602],\n",
       "        [ 0.37951192],\n",
       "        [-0.4414024 ],\n",
       "        [ 0.292079  ],\n",
       "        [-0.4740697 ],\n",
       "        [-0.05148704],\n",
       "        [-0.2809439 ],\n",
       "        [-0.17528334],\n",
       "        [-0.0329284 ],\n",
       "        [-0.13646981],\n",
       "        [-0.12222421],\n",
       "        [-0.11401363],\n",
       "        [-0.4198493 ],\n",
       "        [-0.03366175],\n",
       "        [-0.7522228 ],\n",
       "        [-0.13213955],\n",
       "        [ 0.04784776],\n",
       "        [-0.04323635],\n",
       "        [ 0.07335443],\n",
       "        [ 0.14429131],\n",
       "        [-0.0292146 ],\n",
       "        [ 0.160075  ],\n",
       "        [-0.18912715],\n",
       "        [ 0.05237667],\n",
       "        [-0.10856689],\n",
       "        [-0.14117484],\n",
       "        [-0.09895318],\n",
       "        [ 0.09402136],\n",
       "        [-0.09145149]], dtype=float32),\n",
       " array([-0.55067414], dtype=float32)]"
      ]
     },
     "execution_count": 6,
     "metadata": {},
     "output_type": "execute_result"
    }
   ],
   "source": [
    "model.get_weights()"
   ]
  },
  {
   "cell_type": "markdown",
   "metadata": {},
   "source": [
    "# Step 2: Helper Functions"
   ]
  },
  {
   "cell_type": "code",
   "execution_count": 7,
   "metadata": {},
   "outputs": [],
   "source": [
    "# Function to decode reviews\n",
    "def decode_review(encoded_review):\n",
    "    return ' '.join([reverse_word_index.get(i -3, '?') for i in encoded_review])\n",
    "\n",
    "# Function to preprocess user input\n",
    "def preprocess_text(text):\n",
    "    words = text.lower().split()\n",
    "    encoded_review = [word_index.get(word, 2) + 3 for word in words]\n",
    "    padded_review = sequence.pad_sequences([encoded_review], maxlen=500)\n",
    "    return padded_review"
   ]
  },
  {
   "cell_type": "markdown",
   "metadata": {},
   "source": [
    "### Step 3: Make Prediction"
   ]
  },
  {
   "cell_type": "code",
   "execution_count": 8,
   "metadata": {},
   "outputs": [],
   "source": [
    "def predict_sentiment(review):\n",
    "    preprocessed_input = preprocess_text(review)\n",
    "    # This gives score in list of lists, so to get the prediction value out we have to do prediction[0][0]\n",
    "    prediction = model.predict(preprocessed_input)\n",
    "    sentiment = 'Positive' if prediction[0][0] > 0.5 else 'Negative'\n",
    "    return sentiment, prediction[0][0]"
   ]
  },
  {
   "cell_type": "markdown",
   "metadata": {},
   "source": [
    "# Step 4: User Input and Prediction"
   ]
  },
  {
   "cell_type": "code",
   "execution_count": 9,
   "metadata": {},
   "outputs": [
    {
     "name": "stdout",
     "output_type": "stream",
     "text": [
      "\u001b[1m1/1\u001b[0m \u001b[32m━━━━━━━━━━━━━━━━━━━━\u001b[0m\u001b[37m\u001b[0m \u001b[1m0s\u001b[0m 178ms/step\n",
      "Review: This movie was fantastic! The acting was great and the plot as thrilling\n",
      "Sentiment: Positive\n",
      "Prediction Score: 0.6303620338439941\n"
     ]
    }
   ],
   "source": [
    "# Example review sample for prediction\n",
    "example_review = \"This movie was fantastic! The acting was great and the plot as thrilling\"\n",
    "\n",
    "sentiment, score = predict_sentiment(example_review)\n",
    "\n",
    "print(f\"Review: {example_review}\")\n",
    "print(f\"Sentiment: {sentiment}\")\n",
    "print(f\"Prediction Score: {score}\")"
   ]
  },
  {
   "cell_type": "code",
   "execution_count": 26,
   "metadata": {},
   "outputs": [
    {
     "name": "stdout",
     "output_type": "stream",
     "text": [
      "\u001b[1m1/1\u001b[0m \u001b[32m━━━━━━━━━━━━━━━━━━━━\u001b[0m\u001b[37m\u001b[0m \u001b[1m0s\u001b[0m 33ms/step\n",
      "Review: The worst movie ever!\n",
      "Sentiment: Negative\n",
      "Prediction Score: 0.2635015845298767\n"
     ]
    }
   ],
   "source": [
    "# Example review sample for prediction\n",
    "example_review = \"The worst movie ever!\"\n",
    "\n",
    "sentiment, score = predict_sentiment(example_review)\n",
    "\n",
    "print(f\"Review: {example_review}\")\n",
    "print(f\"Sentiment: {sentiment}\")\n",
    "print(f\"Prediction Score: {score}\")"
   ]
  }
 ],
 "metadata": {
  "kernelspec": {
   "display_name": "Python 3",
   "language": "python",
   "name": "python3"
  },
  "language_info": {
   "codemirror_mode": {
    "name": "ipython",
    "version": 3
   },
   "file_extension": ".py",
   "mimetype": "text/x-python",
   "name": "python",
   "nbconvert_exporter": "python",
   "pygments_lexer": "ipython3",
   "version": "3.12.0"
  }
 },
 "nbformat": 4,
 "nbformat_minor": 2
}
