{
 "cells": [
  {
   "cell_type": "code",
   "execution_count": 1,
   "metadata": {},
   "outputs": [
    {
     "name": "stderr",
     "output_type": "stream",
     "text": [
      "2024-08-25 11:05:11.443551: I tensorflow/core/platform/cpu_feature_guard.cc:210] This TensorFlow binary is optimized to use available CPU instructions in performance-critical operations.\n",
      "To enable the following instructions: AVX2 FMA, in other operations, rebuild TensorFlow with the appropriate compiler flags.\n"
     ]
    }
   ],
   "source": [
    "from tensorflow.keras.preprocessing.text import one_hot"
   ]
  },
  {
   "cell_type": "code",
   "execution_count": 2,
   "metadata": {},
   "outputs": [],
   "source": [
    "### sentences\n",
    "sent=['the glass of milk',\n",
    "     'the glass of juice',\n",
    "     'the cup of tea',\n",
    "    'I am a good boy',\n",
    "     'I am a good developer',\n",
    "     'understand the meaning of words',\n",
    "     'your videos are good',]"
   ]
  },
  {
   "cell_type": "code",
   "execution_count": 3,
   "metadata": {},
   "outputs": [
    {
     "data": {
      "text/plain": [
       "['the glass of milk',\n",
       " 'the glass of juice',\n",
       " 'the cup of tea',\n",
       " 'I am a good boy',\n",
       " 'I am a good developer',\n",
       " 'understand the meaning of words',\n",
       " 'your videos are good']"
      ]
     },
     "execution_count": 3,
     "metadata": {},
     "output_type": "execute_result"
    }
   ],
   "source": [
    "sent"
   ]
  },
  {
   "cell_type": "code",
   "execution_count": 4,
   "metadata": {},
   "outputs": [],
   "source": [
    "## Define the vocabulary size\n",
    "voc_size=10000"
   ]
  },
  {
   "cell_type": "code",
   "execution_count": 5,
   "metadata": {},
   "outputs": [
    {
     "data": {
      "text/plain": [
       "['the glass of milk',\n",
       " 'the glass of juice',\n",
       " 'the cup of tea',\n",
       " 'I am a good boy',\n",
       " 'I am a good developer',\n",
       " 'understand the meaning of words',\n",
       " 'your videos are good']"
      ]
     },
     "execution_count": 5,
     "metadata": {},
     "output_type": "execute_result"
    }
   ],
   "source": [
    "sent"
   ]
  },
  {
   "cell_type": "code",
   "execution_count": 6,
   "metadata": {},
   "outputs": [
    {
     "data": {
      "text/plain": [
       "[[5222, 537, 2105, 4235],\n",
       " [5222, 537, 2105, 6856],\n",
       " [5222, 2804, 2105, 1816],\n",
       " [1379, 8605, 2233, 1195, 9409],\n",
       " [1379, 8605, 2233, 1195, 8175],\n",
       " [6049, 5222, 8756, 2105, 2728],\n",
       " [6489, 1736, 6542, 1195]]"
      ]
     },
     "execution_count": 6,
     "metadata": {},
     "output_type": "execute_result"
    }
   ],
   "source": [
    "### One Hot Representation\n",
    "one_hot_repr=[one_hot(words,voc_size)for words in sent]\n",
    "one_hot_repr"
   ]
  },
  {
   "cell_type": "code",
   "execution_count": 10,
   "metadata": {},
   "outputs": [],
   "source": [
    "## word Embedding Representation\n",
    "from tensorflow.keras.layers import Embedding\n",
    "from tensorflow.keras.utils import pad_sequences\n",
    "from tensorflow.keras.models import Sequential"
   ]
  },
  {
   "cell_type": "code",
   "execution_count": 11,
   "metadata": {},
   "outputs": [],
   "source": [
    "import numpy as np"
   ]
  },
  {
   "cell_type": "code",
   "execution_count": 15,
   "metadata": {},
   "outputs": [
    {
     "name": "stdout",
     "output_type": "stream",
     "text": [
      "[[   0    0    0    0 5222  537 2105 4235]\n",
      " [   0    0    0    0 5222  537 2105 6856]\n",
      " [   0    0    0    0 5222 2804 2105 1816]\n",
      " [   0    0    0 1379 8605 2233 1195 9409]\n",
      " [   0    0    0 1379 8605 2233 1195 8175]\n",
      " [   0    0    0 6049 5222 8756 2105 2728]\n",
      " [   0    0    0    0 6489 1736 6542 1195]]\n"
     ]
    }
   ],
   "source": [
    "sent=['the glass of milk',\n",
    "     'the glass of juice',\n",
    "     'the cup of tea',\n",
    "    'I am a good boy',\n",
    "     'I am a good developer',\n",
    "     'understand the meaning of words',\n",
    "     'your videos are good',]\n",
    "voc_size=10000\n",
    "one_hot_repr=[one_hot(words,voc_size)for words in sent]\n",
    "sent_length=8\n",
    "embedded_docs=pad_sequences(one_hot_repr,padding='pre',maxlen=sent_length)\n",
    "print(embedded_docs)"
   ]
  },
  {
   "cell_type": "code",
   "execution_count": 16,
   "metadata": {},
   "outputs": [],
   "source": [
    "## feature representation\n",
    "dim = 10"
   ]
  },
  {
   "cell_type": "markdown",
   "metadata": {},
   "source": [
    "### Create model for Embedding Layer"
   ]
  },
  {
   "cell_type": "markdown",
   "metadata": {},
   "source": [
    "### Here Embedding from keras internally uses word2vec to convert your words to a vector with feature dimension of dim."
   ]
  },
  {
   "cell_type": "code",
   "execution_count": 23,
   "metadata": {},
   "outputs": [
    {
     "data": {
      "text/html": [
       "<pre style=\"white-space:pre;overflow-x:auto;line-height:normal;font-family:Menlo,'DejaVu Sans Mono',consolas,'Courier New',monospace\"><span style=\"font-weight: bold\">Model: \"sequential_5\"</span>\n",
       "</pre>\n"
      ],
      "text/plain": [
       "\u001b[1mModel: \"sequential_5\"\u001b[0m\n"
      ]
     },
     "metadata": {},
     "output_type": "display_data"
    },
    {
     "data": {
      "text/html": [
       "<pre style=\"white-space:pre;overflow-x:auto;line-height:normal;font-family:Menlo,'DejaVu Sans Mono',consolas,'Courier New',monospace\">┏━━━━━━━━━━━━━━━━━━━━━━━━━━━━━━━━━┳━━━━━━━━━━━━━━━━━━━━━━━━┳━━━━━━━━━━━━━━━┓\n",
       "┃<span style=\"font-weight: bold\"> Layer (type)                    </span>┃<span style=\"font-weight: bold\"> Output Shape           </span>┃<span style=\"font-weight: bold\">       Param # </span>┃\n",
       "┡━━━━━━━━━━━━━━━━━━━━━━━━━━━━━━━━━╇━━━━━━━━━━━━━━━━━━━━━━━━╇━━━━━━━━━━━━━━━┩\n",
       "│ embedding_5 (<span style=\"color: #0087ff; text-decoration-color: #0087ff\">Embedding</span>)         │ (<span style=\"color: #00d7ff; text-decoration-color: #00d7ff\">None</span>, <span style=\"color: #00af00; text-decoration-color: #00af00\">8</span>, <span style=\"color: #00af00; text-decoration-color: #00af00\">10</span>)          │       <span style=\"color: #00af00; text-decoration-color: #00af00\">100,000</span> │\n",
       "└─────────────────────────────────┴────────────────────────┴───────────────┘\n",
       "</pre>\n"
      ],
      "text/plain": [
       "┏━━━━━━━━━━━━━━━━━━━━━━━━━━━━━━━━━┳━━━━━━━━━━━━━━━━━━━━━━━━┳━━━━━━━━━━━━━━━┓\n",
       "┃\u001b[1m \u001b[0m\u001b[1mLayer (type)                   \u001b[0m\u001b[1m \u001b[0m┃\u001b[1m \u001b[0m\u001b[1mOutput Shape          \u001b[0m\u001b[1m \u001b[0m┃\u001b[1m \u001b[0m\u001b[1m      Param #\u001b[0m\u001b[1m \u001b[0m┃\n",
       "┡━━━━━━━━━━━━━━━━━━━━━━━━━━━━━━━━━╇━━━━━━━━━━━━━━━━━━━━━━━━╇━━━━━━━━━━━━━━━┩\n",
       "│ embedding_5 (\u001b[38;5;33mEmbedding\u001b[0m)         │ (\u001b[38;5;45mNone\u001b[0m, \u001b[38;5;34m8\u001b[0m, \u001b[38;5;34m10\u001b[0m)          │       \u001b[38;5;34m100,000\u001b[0m │\n",
       "└─────────────────────────────────┴────────────────────────┴───────────────┘\n"
      ]
     },
     "metadata": {},
     "output_type": "display_data"
    },
    {
     "data": {
      "text/html": [
       "<pre style=\"white-space:pre;overflow-x:auto;line-height:normal;font-family:Menlo,'DejaVu Sans Mono',consolas,'Courier New',monospace\"><span style=\"font-weight: bold\"> Total params: </span><span style=\"color: #00af00; text-decoration-color: #00af00\">100,000</span> (390.62 KB)\n",
       "</pre>\n"
      ],
      "text/plain": [
       "\u001b[1m Total params: \u001b[0m\u001b[38;5;34m100,000\u001b[0m (390.62 KB)\n"
      ]
     },
     "metadata": {},
     "output_type": "display_data"
    },
    {
     "data": {
      "text/html": [
       "<pre style=\"white-space:pre;overflow-x:auto;line-height:normal;font-family:Menlo,'DejaVu Sans Mono',consolas,'Courier New',monospace\"><span style=\"font-weight: bold\"> Trainable params: </span><span style=\"color: #00af00; text-decoration-color: #00af00\">100,000</span> (390.62 KB)\n",
       "</pre>\n"
      ],
      "text/plain": [
       "\u001b[1m Trainable params: \u001b[0m\u001b[38;5;34m100,000\u001b[0m (390.62 KB)\n"
      ]
     },
     "metadata": {},
     "output_type": "display_data"
    },
    {
     "data": {
      "text/html": [
       "<pre style=\"white-space:pre;overflow-x:auto;line-height:normal;font-family:Menlo,'DejaVu Sans Mono',consolas,'Courier New',monospace\"><span style=\"font-weight: bold\"> Non-trainable params: </span><span style=\"color: #00af00; text-decoration-color: #00af00\">0</span> (0.00 B)\n",
       "</pre>\n"
      ],
      "text/plain": [
       "\u001b[1m Non-trainable params: \u001b[0m\u001b[38;5;34m0\u001b[0m (0.00 B)\n"
      ]
     },
     "metadata": {},
     "output_type": "display_data"
    }
   ],
   "source": [
    "import tensorflow as tf\n",
    "from tensorflow.keras.models import Sequential\n",
    "from tensorflow.keras.layers import Embedding, Input\n",
    "\n",
    "# Define the model\n",
    "model = Sequential()\n",
    "model.add(Input(shape=(sent_length,)))\n",
    "model.add(Embedding(voc_size, dim))\n",
    "\n",
    "# Compile the model\n",
    "model.compile(optimizer='adam', loss='mse')\n",
    "\n",
    "# Print the model summary\n",
    "model.summary()\n"
   ]
  },
  {
   "cell_type": "code",
   "execution_count": 40,
   "metadata": {},
   "outputs": [
    {
     "name": "stdout",
     "output_type": "stream",
     "text": [
      "\u001b[1m1/1\u001b[0m \u001b[32m━━━━━━━━━━━━━━━━━━━━\u001b[0m\u001b[37m\u001b[0m \u001b[1m0s\u001b[0m 21ms/step\n"
     ]
    },
    {
     "data": {
      "text/plain": [
       "array([[[ 3.6695171e-02, -6.7288801e-04, -3.6572017e-02, -1.4934897e-02,\n",
       "          4.3631267e-02,  2.3945596e-02,  3.1528879e-02,  2.5925387e-02,\n",
       "          1.4953624e-02,  2.2370998e-02],\n",
       "        [ 3.6695171e-02, -6.7288801e-04, -3.6572017e-02, -1.4934897e-02,\n",
       "          4.3631267e-02,  2.3945596e-02,  3.1528879e-02,  2.5925387e-02,\n",
       "          1.4953624e-02,  2.2370998e-02],\n",
       "        [ 3.6695171e-02, -6.7288801e-04, -3.6572017e-02, -1.4934897e-02,\n",
       "          4.3631267e-02,  2.3945596e-02,  3.1528879e-02,  2.5925387e-02,\n",
       "          1.4953624e-02,  2.2370998e-02],\n",
       "        [ 3.6695171e-02, -6.7288801e-04, -3.6572017e-02, -1.4934897e-02,\n",
       "          4.3631267e-02,  2.3945596e-02,  3.1528879e-02,  2.5925387e-02,\n",
       "          1.4953624e-02,  2.2370998e-02],\n",
       "        [ 3.4045961e-02, -1.6851507e-02, -2.0492792e-02, -4.4766843e-02,\n",
       "          3.9200116e-02, -4.3071449e-02, -4.2804051e-02,  2.1803681e-02,\n",
       "          8.4058419e-03,  6.3904524e-03],\n",
       "        [ 4.6768550e-02,  4.2669181e-02, -4.8815835e-02, -1.9764865e-02,\n",
       "         -4.9867548e-02,  2.8274748e-02, -1.0235488e-02, -4.9247529e-02,\n",
       "          1.3621900e-02,  2.5126550e-02],\n",
       "        [-3.8470913e-02,  1.0269880e-04, -2.2981390e-03, -2.4336601e-02,\n",
       "         -1.5812375e-02, -1.7948188e-02, -2.0366549e-02,  3.6820341e-02,\n",
       "         -1.3846301e-02, -3.4538962e-02],\n",
       "        [ 2.5582340e-02,  1.4470819e-02,  4.6277884e-02, -1.4405895e-02,\n",
       "          3.3213589e-02,  3.8873527e-02, -4.6569195e-02, -9.5544234e-03,\n",
       "          1.7479133e-02,  4.2445485e-02]],\n",
       "\n",
       "       [[ 3.6695171e-02, -6.7288801e-04, -3.6572017e-02, -1.4934897e-02,\n",
       "          4.3631267e-02,  2.3945596e-02,  3.1528879e-02,  2.5925387e-02,\n",
       "          1.4953624e-02,  2.2370998e-02],\n",
       "        [ 3.6695171e-02, -6.7288801e-04, -3.6572017e-02, -1.4934897e-02,\n",
       "          4.3631267e-02,  2.3945596e-02,  3.1528879e-02,  2.5925387e-02,\n",
       "          1.4953624e-02,  2.2370998e-02],\n",
       "        [ 3.6695171e-02, -6.7288801e-04, -3.6572017e-02, -1.4934897e-02,\n",
       "          4.3631267e-02,  2.3945596e-02,  3.1528879e-02,  2.5925387e-02,\n",
       "          1.4953624e-02,  2.2370998e-02],\n",
       "        [ 3.6695171e-02, -6.7288801e-04, -3.6572017e-02, -1.4934897e-02,\n",
       "          4.3631267e-02,  2.3945596e-02,  3.1528879e-02,  2.5925387e-02,\n",
       "          1.4953624e-02,  2.2370998e-02],\n",
       "        [ 3.4045961e-02, -1.6851507e-02, -2.0492792e-02, -4.4766843e-02,\n",
       "          3.9200116e-02, -4.3071449e-02, -4.2804051e-02,  2.1803681e-02,\n",
       "          8.4058419e-03,  6.3904524e-03],\n",
       "        [ 4.6768550e-02,  4.2669181e-02, -4.8815835e-02, -1.9764865e-02,\n",
       "         -4.9867548e-02,  2.8274748e-02, -1.0235488e-02, -4.9247529e-02,\n",
       "          1.3621900e-02,  2.5126550e-02],\n",
       "        [-3.8470913e-02,  1.0269880e-04, -2.2981390e-03, -2.4336601e-02,\n",
       "         -1.5812375e-02, -1.7948188e-02, -2.0366549e-02,  3.6820341e-02,\n",
       "         -1.3846301e-02, -3.4538962e-02],\n",
       "        [-6.1356425e-03,  1.6791213e-02, -2.2147186e-03,  3.7566312e-03,\n",
       "         -1.3063420e-02, -2.5837719e-02, -2.8501118e-02, -1.7722331e-02,\n",
       "          2.5674079e-02, -4.5719601e-02]],\n",
       "\n",
       "       [[ 3.6695171e-02, -6.7288801e-04, -3.6572017e-02, -1.4934897e-02,\n",
       "          4.3631267e-02,  2.3945596e-02,  3.1528879e-02,  2.5925387e-02,\n",
       "          1.4953624e-02,  2.2370998e-02],\n",
       "        [ 3.6695171e-02, -6.7288801e-04, -3.6572017e-02, -1.4934897e-02,\n",
       "          4.3631267e-02,  2.3945596e-02,  3.1528879e-02,  2.5925387e-02,\n",
       "          1.4953624e-02,  2.2370998e-02],\n",
       "        [ 3.6695171e-02, -6.7288801e-04, -3.6572017e-02, -1.4934897e-02,\n",
       "          4.3631267e-02,  2.3945596e-02,  3.1528879e-02,  2.5925387e-02,\n",
       "          1.4953624e-02,  2.2370998e-02],\n",
       "        [ 3.6695171e-02, -6.7288801e-04, -3.6572017e-02, -1.4934897e-02,\n",
       "          4.3631267e-02,  2.3945596e-02,  3.1528879e-02,  2.5925387e-02,\n",
       "          1.4953624e-02,  2.2370998e-02],\n",
       "        [ 3.4045961e-02, -1.6851507e-02, -2.0492792e-02, -4.4766843e-02,\n",
       "          3.9200116e-02, -4.3071449e-02, -4.2804051e-02,  2.1803681e-02,\n",
       "          8.4058419e-03,  6.3904524e-03],\n",
       "        [ 4.6761658e-02,  4.8368461e-03, -2.6515139e-02, -1.5638843e-03,\n",
       "         -2.5627220e-02, -6.8284571e-05, -4.3098200e-02, -3.9213073e-02,\n",
       "         -1.9667566e-02,  2.8237093e-02],\n",
       "        [-3.8470913e-02,  1.0269880e-04, -2.2981390e-03, -2.4336601e-02,\n",
       "         -1.5812375e-02, -1.7948188e-02, -2.0366549e-02,  3.6820341e-02,\n",
       "         -1.3846301e-02, -3.4538962e-02],\n",
       "        [-4.5660317e-02,  2.1283556e-02, -2.6001453e-02, -2.8511405e-02,\n",
       "          2.7332529e-03,  9.9761263e-03,  4.7130588e-02, -6.3676722e-03,\n",
       "         -4.5783054e-02, -1.9927550e-02]],\n",
       "\n",
       "       [[ 3.6695171e-02, -6.7288801e-04, -3.6572017e-02, -1.4934897e-02,\n",
       "          4.3631267e-02,  2.3945596e-02,  3.1528879e-02,  2.5925387e-02,\n",
       "          1.4953624e-02,  2.2370998e-02],\n",
       "        [ 3.6695171e-02, -6.7288801e-04, -3.6572017e-02, -1.4934897e-02,\n",
       "          4.3631267e-02,  2.3945596e-02,  3.1528879e-02,  2.5925387e-02,\n",
       "          1.4953624e-02,  2.2370998e-02],\n",
       "        [ 3.6695171e-02, -6.7288801e-04, -3.6572017e-02, -1.4934897e-02,\n",
       "          4.3631267e-02,  2.3945596e-02,  3.1528879e-02,  2.5925387e-02,\n",
       "          1.4953624e-02,  2.2370998e-02],\n",
       "        [-4.7549974e-02,  3.5460282e-02,  3.0738663e-02, -1.7152142e-02,\n",
       "          1.2578297e-02, -4.0463638e-02,  3.1330418e-02,  3.6542490e-04,\n",
       "         -2.4065519e-02,  2.7726818e-02],\n",
       "        [ 4.7517840e-02, -3.6616981e-02, -2.7056133e-02, -2.6337767e-02,\n",
       "         -4.7331523e-02, -1.6396068e-02, -2.3311114e-02, -9.8102801e-03,\n",
       "         -2.6151538e-03, -7.0477501e-03],\n",
       "        [ 3.0429397e-02,  1.3335299e-02,  5.1761754e-03, -1.1539746e-02,\n",
       "         -3.3029750e-02, -3.6097549e-02, -3.0558825e-02,  1.2182333e-02,\n",
       "         -2.3918545e-02,  1.7407391e-02],\n",
       "        [ 1.7866079e-02, -3.0779434e-02, -2.0237911e-02,  8.0825575e-03,\n",
       "          9.5125213e-03, -2.8001571e-02, -7.8748092e-03,  3.1227019e-02,\n",
       "          1.4503624e-02,  2.1902312e-02],\n",
       "        [-3.9396204e-02,  1.5640382e-02, -2.1385087e-02, -4.3090653e-02,\n",
       "         -3.5994552e-02, -1.4101975e-03, -3.5672914e-02, -2.0491613e-02,\n",
       "          3.0872140e-02, -3.8941838e-02]],\n",
       "\n",
       "       [[ 3.6695171e-02, -6.7288801e-04, -3.6572017e-02, -1.4934897e-02,\n",
       "          4.3631267e-02,  2.3945596e-02,  3.1528879e-02,  2.5925387e-02,\n",
       "          1.4953624e-02,  2.2370998e-02],\n",
       "        [ 3.6695171e-02, -6.7288801e-04, -3.6572017e-02, -1.4934897e-02,\n",
       "          4.3631267e-02,  2.3945596e-02,  3.1528879e-02,  2.5925387e-02,\n",
       "          1.4953624e-02,  2.2370998e-02],\n",
       "        [ 3.6695171e-02, -6.7288801e-04, -3.6572017e-02, -1.4934897e-02,\n",
       "          4.3631267e-02,  2.3945596e-02,  3.1528879e-02,  2.5925387e-02,\n",
       "          1.4953624e-02,  2.2370998e-02],\n",
       "        [-4.7549974e-02,  3.5460282e-02,  3.0738663e-02, -1.7152142e-02,\n",
       "          1.2578297e-02, -4.0463638e-02,  3.1330418e-02,  3.6542490e-04,\n",
       "         -2.4065519e-02,  2.7726818e-02],\n",
       "        [ 4.7517840e-02, -3.6616981e-02, -2.7056133e-02, -2.6337767e-02,\n",
       "         -4.7331523e-02, -1.6396068e-02, -2.3311114e-02, -9.8102801e-03,\n",
       "         -2.6151538e-03, -7.0477501e-03],\n",
       "        [ 3.0429397e-02,  1.3335299e-02,  5.1761754e-03, -1.1539746e-02,\n",
       "         -3.3029750e-02, -3.6097549e-02, -3.0558825e-02,  1.2182333e-02,\n",
       "         -2.3918545e-02,  1.7407391e-02],\n",
       "        [ 1.7866079e-02, -3.0779434e-02, -2.0237911e-02,  8.0825575e-03,\n",
       "          9.5125213e-03, -2.8001571e-02, -7.8748092e-03,  3.1227019e-02,\n",
       "          1.4503624e-02,  2.1902312e-02],\n",
       "        [-2.5528312e-02,  3.6898319e-02, -2.5389306e-03, -7.4944869e-03,\n",
       "         -1.6401388e-02, -7.1484074e-03,  2.4477314e-02, -5.4595098e-03,\n",
       "          1.8452890e-03,  6.9219992e-04]],\n",
       "\n",
       "       [[ 3.6695171e-02, -6.7288801e-04, -3.6572017e-02, -1.4934897e-02,\n",
       "          4.3631267e-02,  2.3945596e-02,  3.1528879e-02,  2.5925387e-02,\n",
       "          1.4953624e-02,  2.2370998e-02],\n",
       "        [ 3.6695171e-02, -6.7288801e-04, -3.6572017e-02, -1.4934897e-02,\n",
       "          4.3631267e-02,  2.3945596e-02,  3.1528879e-02,  2.5925387e-02,\n",
       "          1.4953624e-02,  2.2370998e-02],\n",
       "        [ 3.6695171e-02, -6.7288801e-04, -3.6572017e-02, -1.4934897e-02,\n",
       "          4.3631267e-02,  2.3945596e-02,  3.1528879e-02,  2.5925387e-02,\n",
       "          1.4953624e-02,  2.2370998e-02],\n",
       "        [-4.3422796e-02, -2.0032413e-03,  1.4137816e-02,  7.0449933e-03,\n",
       "          3.9590094e-02,  3.1916130e-02,  2.9226493e-02,  4.0375069e-04,\n",
       "          9.9052899e-03, -3.0060267e-02],\n",
       "        [ 3.4045961e-02, -1.6851507e-02, -2.0492792e-02, -4.4766843e-02,\n",
       "          3.9200116e-02, -4.3071449e-02, -4.2804051e-02,  2.1803681e-02,\n",
       "          8.4058419e-03,  6.3904524e-03],\n",
       "        [-6.6860542e-03, -4.9306393e-02, -4.7689211e-02, -4.3235350e-02,\n",
       "          1.2978446e-02,  4.7266547e-02, -2.5311721e-02, -4.1582383e-02,\n",
       "         -1.4424719e-02,  2.1367442e-02],\n",
       "        [-3.8470913e-02,  1.0269880e-04, -2.2981390e-03, -2.4336601e-02,\n",
       "         -1.5812375e-02, -1.7948188e-02, -2.0366549e-02,  3.6820341e-02,\n",
       "         -1.3846301e-02, -3.4538962e-02],\n",
       "        [-2.8535016e-03, -4.0359687e-02, -2.2142589e-02, -3.0704355e-02,\n",
       "          6.0343035e-03, -2.6581228e-02,  2.3545209e-02,  2.1239769e-02,\n",
       "         -2.6914096e-02, -2.2623166e-03]],\n",
       "\n",
       "       [[ 3.6695171e-02, -6.7288801e-04, -3.6572017e-02, -1.4934897e-02,\n",
       "          4.3631267e-02,  2.3945596e-02,  3.1528879e-02,  2.5925387e-02,\n",
       "          1.4953624e-02,  2.2370998e-02],\n",
       "        [ 3.6695171e-02, -6.7288801e-04, -3.6572017e-02, -1.4934897e-02,\n",
       "          4.3631267e-02,  2.3945596e-02,  3.1528879e-02,  2.5925387e-02,\n",
       "          1.4953624e-02,  2.2370998e-02],\n",
       "        [ 3.6695171e-02, -6.7288801e-04, -3.6572017e-02, -1.4934897e-02,\n",
       "          4.3631267e-02,  2.3945596e-02,  3.1528879e-02,  2.5925387e-02,\n",
       "          1.4953624e-02,  2.2370998e-02],\n",
       "        [ 3.6695171e-02, -6.7288801e-04, -3.6572017e-02, -1.4934897e-02,\n",
       "          4.3631267e-02,  2.3945596e-02,  3.1528879e-02,  2.5925387e-02,\n",
       "          1.4953624e-02,  2.2370998e-02],\n",
       "        [-2.2422506e-02, -4.2661656e-02,  3.6897767e-02,  3.4383047e-02,\n",
       "          4.8484299e-02, -1.0254849e-02, -7.6113120e-03,  2.0167444e-02,\n",
       "          4.0231798e-02, -3.6515880e-02],\n",
       "        [ 3.9262604e-02,  1.9217562e-02, -1.4287710e-02, -2.2219002e-02,\n",
       "         -5.3878203e-03, -3.4804583e-02,  2.6518021e-02, -1.1909604e-02,\n",
       "          2.3398627e-02, -4.7803927e-02],\n",
       "        [ 4.8852075e-02,  4.9499419e-02, -4.3522846e-02, -4.8758008e-02,\n",
       "         -3.9812457e-02,  4.1880969e-02, -3.7563849e-02,  7.0605502e-03,\n",
       "         -3.8057365e-02,  1.1978172e-02],\n",
       "        [ 1.7866079e-02, -3.0779434e-02, -2.0237911e-02,  8.0825575e-03,\n",
       "          9.5125213e-03, -2.8001571e-02, -7.8748092e-03,  3.1227019e-02,\n",
       "          1.4503624e-02,  2.1902312e-02]]], dtype=float32)"
      ]
     },
     "execution_count": 40,
     "metadata": {},
     "output_type": "execute_result"
    }
   ],
   "source": [
    "model.predict(embedded_docs)"
   ]
  },
  {
   "cell_type": "code",
   "execution_count": 41,
   "metadata": {},
   "outputs": [
    {
     "data": {
      "text/plain": [
       "array([[   0,    0,    0,    0, 5222,  537, 2105, 4235],\n",
       "       [   0,    0,    0,    0, 5222,  537, 2105, 6856],\n",
       "       [   0,    0,    0,    0, 5222, 2804, 2105, 1816],\n",
       "       [   0,    0,    0, 1379, 8605, 2233, 1195, 9409],\n",
       "       [   0,    0,    0, 1379, 8605, 2233, 1195, 8175],\n",
       "       [   0,    0,    0, 6049, 5222, 8756, 2105, 2728],\n",
       "       [   0,    0,    0,    0, 6489, 1736, 6542, 1195]], dtype=int32)"
      ]
     },
     "execution_count": 41,
     "metadata": {},
     "output_type": "execute_result"
    }
   ],
   "source": [
    "embedded_docs"
   ]
  },
  {
   "cell_type": "code",
   "execution_count": 30,
   "metadata": {},
   "outputs": [],
   "source": [
    "te = [\n",
    "    [0, 0, 0, 0, 5222, 537, 2105, 4235],\n",
    "    [0, 0, 0, 0, 5222, 537, 2105, 6856],\n",
    "    [0, 0, 0, 0, 5222, 2804, 2105, 1816],\n",
    "    [0, 0, 0, 1379, 8605, 2233, 1195, 9409],\n",
    "    [0, 0, 0, 1379, 8605, 2233, 1195, 8175],\n",
    "    [0, 0, 0, 6049, 5222, 8756, 2105, 2728],\n",
    "    [0, 0, 0, 0, 6489, 1736, 6542, 1195]\n",
    "]"
   ]
  },
  {
   "cell_type": "code",
   "execution_count": 31,
   "metadata": {},
   "outputs": [
    {
     "data": {
      "text/plain": [
       "7"
      ]
     },
     "execution_count": 31,
     "metadata": {},
     "output_type": "execute_result"
    }
   ],
   "source": [
    "len(te)"
   ]
  },
  {
   "cell_type": "code",
   "execution_count": 32,
   "metadata": {},
   "outputs": [
    {
     "data": {
      "text/plain": [
       "[0, 0, 0, 0, 5222, 537, 2105, 4235]"
      ]
     },
     "execution_count": 32,
     "metadata": {},
     "output_type": "execute_result"
    }
   ],
   "source": [
    "te[0]"
   ]
  },
  {
   "cell_type": "code",
   "execution_count": 27,
   "metadata": {},
   "outputs": [
    {
     "data": {
      "text/plain": [
       "7"
      ]
     },
     "execution_count": 27,
     "metadata": {},
     "output_type": "execute_result"
    }
   ],
   "source": [
    "len(embedded_docs)"
   ]
  },
  {
   "cell_type": "code",
   "execution_count": 36,
   "metadata": {},
   "outputs": [
    {
     "data": {
      "text/plain": [
       "8"
      ]
     },
     "execution_count": 36,
     "metadata": {},
     "output_type": "execute_result"
    }
   ],
   "source": [
    "len(embedded_docs[0])"
   ]
  },
  {
   "cell_type": "code",
   "execution_count": 37,
   "metadata": {},
   "outputs": [
    {
     "data": {
      "text/plain": [
       "array([   0,    0,    0,    0, 5222,  537, 2105, 4235], dtype=int32)"
      ]
     },
     "execution_count": 37,
     "metadata": {},
     "output_type": "execute_result"
    }
   ],
   "source": [
    "embedded_docs[0]"
   ]
  },
  {
   "cell_type": "code",
   "execution_count": 34,
   "metadata": {},
   "outputs": [
    {
     "ename": "NameError",
     "evalue": "name 'int32' is not defined",
     "output_type": "error",
     "traceback": [
      "\u001b[0;31m---------------------------------------------------------------------------\u001b[0m",
      "\u001b[0;31mNameError\u001b[0m                                 Traceback (most recent call last)",
      "Cell \u001b[0;32mIn[34], line 1\u001b[0m\n\u001b[0;32m----> 1\u001b[0m model\u001b[39m.\u001b[39mpredict(te[\u001b[39m0\u001b[39m], dtype\u001b[39m=\u001b[39mint32)\n",
      "\u001b[0;31mNameError\u001b[0m: name 'int32' is not defined"
     ]
    }
   ],
   "source": [
    "model.predict(te[0], dtype=int32)"
   ]
  },
  {
   "cell_type": "code",
   "execution_count": 35,
   "metadata": {},
   "outputs": [
    {
     "ename": "ValueError",
     "evalue": "Exception encountered when calling Sequential.call().\n\n\u001b[1mCannot take the length of shape with unknown rank.\u001b[0m\n\nArguments received by Sequential.call():\n  • inputs=tf.Tensor(shape=<unknown>, dtype=int32)\n  • training=False\n  • mask=None",
     "output_type": "error",
     "traceback": [
      "\u001b[0;31m---------------------------------------------------------------------------\u001b[0m",
      "\u001b[0;31mValueError\u001b[0m                                Traceback (most recent call last)",
      "Cell \u001b[0;32mIn[35], line 1\u001b[0m\n\u001b[0;32m----> 1\u001b[0m model\u001b[39m.\u001b[39;49mpredict(embedded_docs[\u001b[39m0\u001b[39;49m])\n",
      "File \u001b[0;32m~/miniconda3/envs/py312/lib/python3.12/site-packages/keras/src/utils/traceback_utils.py:122\u001b[0m, in \u001b[0;36mfilter_traceback.<locals>.error_handler\u001b[0;34m(*args, **kwargs)\u001b[0m\n\u001b[1;32m    119\u001b[0m     filtered_tb \u001b[39m=\u001b[39m _process_traceback_frames(e\u001b[39m.\u001b[39m__traceback__)\n\u001b[1;32m    120\u001b[0m     \u001b[39m# To get the full stack trace, call:\u001b[39;00m\n\u001b[1;32m    121\u001b[0m     \u001b[39m# `keras.config.disable_traceback_filtering()`\u001b[39;00m\n\u001b[0;32m--> 122\u001b[0m     \u001b[39mraise\u001b[39;00m e\u001b[39m.\u001b[39mwith_traceback(filtered_tb) \u001b[39mfrom\u001b[39;00m \u001b[39mNone\u001b[39;00m\n\u001b[1;32m    123\u001b[0m \u001b[39mfinally\u001b[39;00m:\n\u001b[1;32m    124\u001b[0m     \u001b[39mdel\u001b[39;00m filtered_tb\n",
      "File \u001b[0;32m~/miniconda3/envs/py312/lib/python3.12/site-packages/keras/src/utils/traceback_utils.py:122\u001b[0m, in \u001b[0;36mfilter_traceback.<locals>.error_handler\u001b[0;34m(*args, **kwargs)\u001b[0m\n\u001b[1;32m    119\u001b[0m     filtered_tb \u001b[39m=\u001b[39m _process_traceback_frames(e\u001b[39m.\u001b[39m__traceback__)\n\u001b[1;32m    120\u001b[0m     \u001b[39m# To get the full stack trace, call:\u001b[39;00m\n\u001b[1;32m    121\u001b[0m     \u001b[39m# `keras.config.disable_traceback_filtering()`\u001b[39;00m\n\u001b[0;32m--> 122\u001b[0m     \u001b[39mraise\u001b[39;00m e\u001b[39m.\u001b[39mwith_traceback(filtered_tb) \u001b[39mfrom\u001b[39;00m \u001b[39mNone\u001b[39;00m\n\u001b[1;32m    123\u001b[0m \u001b[39mfinally\u001b[39;00m:\n\u001b[1;32m    124\u001b[0m     \u001b[39mdel\u001b[39;00m filtered_tb\n",
      "\u001b[0;31mValueError\u001b[0m: Exception encountered when calling Sequential.call().\n\n\u001b[1mCannot take the length of shape with unknown rank.\u001b[0m\n\nArguments received by Sequential.call():\n  • inputs=tf.Tensor(shape=<unknown>, dtype=int32)\n  • training=False\n  • mask=None"
     ]
    }
   ],
   "source": [
    "model.predict(embedded_docs[0])"
   ]
  },
  {
   "cell_type": "code",
   "execution_count": 42,
   "metadata": {},
   "outputs": [
    {
     "ename": "ValueError",
     "evalue": "Exception encountered when calling Sequential.call().\n\n\u001b[1mCannot take the length of shape with unknown rank.\u001b[0m\n\nArguments received by Sequential.call():\n  • inputs=tf.Tensor(shape=<unknown>, dtype=int32)\n  • training=False\n  • mask=None",
     "output_type": "error",
     "traceback": [
      "\u001b[0;31m---------------------------------------------------------------------------\u001b[0m",
      "\u001b[0;31mValueError\u001b[0m                                Traceback (most recent call last)",
      "Cell \u001b[0;32mIn[42], line 1\u001b[0m\n\u001b[0;32m----> 1\u001b[0m model\u001b[39m.\u001b[39;49mpredict(embedded_docs[\u001b[39m0\u001b[39;49m])\n",
      "File \u001b[0;32m~/miniconda3/envs/py312/lib/python3.12/site-packages/keras/src/utils/traceback_utils.py:122\u001b[0m, in \u001b[0;36mfilter_traceback.<locals>.error_handler\u001b[0;34m(*args, **kwargs)\u001b[0m\n\u001b[1;32m    119\u001b[0m     filtered_tb \u001b[39m=\u001b[39m _process_traceback_frames(e\u001b[39m.\u001b[39m__traceback__)\n\u001b[1;32m    120\u001b[0m     \u001b[39m# To get the full stack trace, call:\u001b[39;00m\n\u001b[1;32m    121\u001b[0m     \u001b[39m# `keras.config.disable_traceback_filtering()`\u001b[39;00m\n\u001b[0;32m--> 122\u001b[0m     \u001b[39mraise\u001b[39;00m e\u001b[39m.\u001b[39mwith_traceback(filtered_tb) \u001b[39mfrom\u001b[39;00m \u001b[39mNone\u001b[39;00m\n\u001b[1;32m    123\u001b[0m \u001b[39mfinally\u001b[39;00m:\n\u001b[1;32m    124\u001b[0m     \u001b[39mdel\u001b[39;00m filtered_tb\n",
      "File \u001b[0;32m~/miniconda3/envs/py312/lib/python3.12/site-packages/keras/src/utils/traceback_utils.py:122\u001b[0m, in \u001b[0;36mfilter_traceback.<locals>.error_handler\u001b[0;34m(*args, **kwargs)\u001b[0m\n\u001b[1;32m    119\u001b[0m     filtered_tb \u001b[39m=\u001b[39m _process_traceback_frames(e\u001b[39m.\u001b[39m__traceback__)\n\u001b[1;32m    120\u001b[0m     \u001b[39m# To get the full stack trace, call:\u001b[39;00m\n\u001b[1;32m    121\u001b[0m     \u001b[39m# `keras.config.disable_traceback_filtering()`\u001b[39;00m\n\u001b[0;32m--> 122\u001b[0m     \u001b[39mraise\u001b[39;00m e\u001b[39m.\u001b[39mwith_traceback(filtered_tb) \u001b[39mfrom\u001b[39;00m \u001b[39mNone\u001b[39;00m\n\u001b[1;32m    123\u001b[0m \u001b[39mfinally\u001b[39;00m:\n\u001b[1;32m    124\u001b[0m     \u001b[39mdel\u001b[39;00m filtered_tb\n",
      "\u001b[0;31mValueError\u001b[0m: Exception encountered when calling Sequential.call().\n\n\u001b[1mCannot take the length of shape with unknown rank.\u001b[0m\n\nArguments received by Sequential.call():\n  • inputs=tf.Tensor(shape=<unknown>, dtype=int32)\n  • training=False\n  • mask=None"
     ]
    }
   ],
   "source": [
    "model.predict(embedded_docs[0])"
   ]
  },
  {
   "cell_type": "markdown",
   "metadata": {},
   "source": [
    "#### It looks like the issue is related to the shape of the input tensor. The error “Cannot take the length of shape with unknown rank” suggests that the model is not receiving the input in the expected format. To resolve this, you need to ensure that the input to model.predict has the correct shape. Specifically, the input should have a batch dimension, even if it’s just a single sequence. Here’s how you can modify your code:"
   ]
  },
  {
   "cell_type": "markdown",
   "metadata": {},
   "source": [
    "# Let's try this"
   ]
  },
  {
   "cell_type": "code",
   "execution_count": 43,
   "metadata": {},
   "outputs": [
    {
     "ename": "ValueError",
     "evalue": "Exception encountered when calling Sequential.call().\n\n\u001b[1mCannot take the length of shape with unknown rank.\u001b[0m\n\nArguments received by Sequential.call():\n  • inputs=tf.Tensor(shape=<unknown>, dtype=int32)\n  • training=False\n  • mask=None",
     "output_type": "error",
     "traceback": [
      "\u001b[0;31m---------------------------------------------------------------------------\u001b[0m",
      "\u001b[0;31mValueError\u001b[0m                                Traceback (most recent call last)",
      "Cell \u001b[0;32mIn[43], line 1\u001b[0m\n\u001b[0;32m----> 1\u001b[0m model\u001b[39m.\u001b[39;49mpredict(np\u001b[39m.\u001b[39;49marray(embedded_docs[\u001b[39m0\u001b[39;49m]))\n",
      "File \u001b[0;32m~/miniconda3/envs/py312/lib/python3.12/site-packages/keras/src/utils/traceback_utils.py:122\u001b[0m, in \u001b[0;36mfilter_traceback.<locals>.error_handler\u001b[0;34m(*args, **kwargs)\u001b[0m\n\u001b[1;32m    119\u001b[0m     filtered_tb \u001b[39m=\u001b[39m _process_traceback_frames(e\u001b[39m.\u001b[39m__traceback__)\n\u001b[1;32m    120\u001b[0m     \u001b[39m# To get the full stack trace, call:\u001b[39;00m\n\u001b[1;32m    121\u001b[0m     \u001b[39m# `keras.config.disable_traceback_filtering()`\u001b[39;00m\n\u001b[0;32m--> 122\u001b[0m     \u001b[39mraise\u001b[39;00m e\u001b[39m.\u001b[39mwith_traceback(filtered_tb) \u001b[39mfrom\u001b[39;00m \u001b[39mNone\u001b[39;00m\n\u001b[1;32m    123\u001b[0m \u001b[39mfinally\u001b[39;00m:\n\u001b[1;32m    124\u001b[0m     \u001b[39mdel\u001b[39;00m filtered_tb\n",
      "File \u001b[0;32m~/miniconda3/envs/py312/lib/python3.12/site-packages/keras/src/utils/traceback_utils.py:122\u001b[0m, in \u001b[0;36mfilter_traceback.<locals>.error_handler\u001b[0;34m(*args, **kwargs)\u001b[0m\n\u001b[1;32m    119\u001b[0m     filtered_tb \u001b[39m=\u001b[39m _process_traceback_frames(e\u001b[39m.\u001b[39m__traceback__)\n\u001b[1;32m    120\u001b[0m     \u001b[39m# To get the full stack trace, call:\u001b[39;00m\n\u001b[1;32m    121\u001b[0m     \u001b[39m# `keras.config.disable_traceback_filtering()`\u001b[39;00m\n\u001b[0;32m--> 122\u001b[0m     \u001b[39mraise\u001b[39;00m e\u001b[39m.\u001b[39mwith_traceback(filtered_tb) \u001b[39mfrom\u001b[39;00m \u001b[39mNone\u001b[39;00m\n\u001b[1;32m    123\u001b[0m \u001b[39mfinally\u001b[39;00m:\n\u001b[1;32m    124\u001b[0m     \u001b[39mdel\u001b[39;00m filtered_tb\n",
      "\u001b[0;31mValueError\u001b[0m: Exception encountered when calling Sequential.call().\n\n\u001b[1mCannot take the length of shape with unknown rank.\u001b[0m\n\nArguments received by Sequential.call():\n  • inputs=tf.Tensor(shape=<unknown>, dtype=int32)\n  • training=False\n  • mask=None"
     ]
    }
   ],
   "source": [
    "model.predict(np.array(embedded_docs[0]))"
   ]
  },
  {
   "cell_type": "markdown",
   "metadata": {},
   "source": [
    "## Okay so that didn't work either!!"
   ]
  },
  {
   "cell_type": "code",
   "execution_count": 46,
   "metadata": {},
   "outputs": [
    {
     "data": {
      "text/plain": [
       "numpy.ndarray"
      ]
     },
     "execution_count": 46,
     "metadata": {},
     "output_type": "execute_result"
    }
   ],
   "source": [
    "type(embedded_docs)"
   ]
  },
  {
   "cell_type": "code",
   "execution_count": 48,
   "metadata": {},
   "outputs": [
    {
     "data": {
      "text/plain": [
       "(8,)"
      ]
     },
     "execution_count": 48,
     "metadata": {},
     "output_type": "execute_result"
    }
   ],
   "source": [
    "embedded_docs[0].shape"
   ]
  },
  {
   "cell_type": "code",
   "execution_count": 49,
   "metadata": {},
   "outputs": [
    {
     "data": {
      "text/plain": [
       "(1, 8)"
      ]
     },
     "execution_count": 49,
     "metadata": {},
     "output_type": "execute_result"
    }
   ],
   "source": [
    "np.array([embedded_docs[0]]).shape"
   ]
  },
  {
   "cell_type": "markdown",
   "metadata": {},
   "source": [
    "## So it needs data in (batch_size, sent_length) format!"
   ]
  },
  {
   "cell_type": "markdown",
   "metadata": {},
   "source": [
    "```\n",
    "Expected Shape:\n",
    "The model expects the input to have a shape of (batch_size, sent_length). This means:\n",
    "\n",
    "batch_size: The number of sequences you are passing to the model at once. Even if it’s just one sequence, it should be wrapped in an array to create a batch of size 1.\n",
    "sent_length: The length of each sequence (in your case, 8).\n",
    "What You Were Passing:\n",
    "When you passed embedded_docs[0], you were passing a single sequence with shape (8,). This does not include the batch dimension, which is why the model raised an error.\n",
    "\n",
    "Correct Shape:\n",
    "To avoid the error, you need to wrap the single sequence in an array to create a batch of size 1. This changes the shape from (8,) to (1, 8).\n",
    "```"
   ]
  },
  {
   "cell_type": "markdown",
   "metadata": {},
   "source": [
    "# Correct way:"
   ]
  },
  {
   "cell_type": "code",
   "execution_count": 50,
   "metadata": {},
   "outputs": [
    {
     "name": "stdout",
     "output_type": "stream",
     "text": [
      "\u001b[1m1/1\u001b[0m \u001b[32m━━━━━━━━━━━━━━━━━━━━\u001b[0m\u001b[37m\u001b[0m \u001b[1m0s\u001b[0m 82ms/step\n"
     ]
    },
    {
     "data": {
      "text/plain": [
       "array([[[ 0.03669517, -0.00067289, -0.03657202, -0.0149349 ,\n",
       "          0.04363127,  0.0239456 ,  0.03152888,  0.02592539,\n",
       "          0.01495362,  0.022371  ],\n",
       "        [ 0.03669517, -0.00067289, -0.03657202, -0.0149349 ,\n",
       "          0.04363127,  0.0239456 ,  0.03152888,  0.02592539,\n",
       "          0.01495362,  0.022371  ],\n",
       "        [ 0.03669517, -0.00067289, -0.03657202, -0.0149349 ,\n",
       "          0.04363127,  0.0239456 ,  0.03152888,  0.02592539,\n",
       "          0.01495362,  0.022371  ],\n",
       "        [ 0.03669517, -0.00067289, -0.03657202, -0.0149349 ,\n",
       "          0.04363127,  0.0239456 ,  0.03152888,  0.02592539,\n",
       "          0.01495362,  0.022371  ],\n",
       "        [ 0.03404596, -0.01685151, -0.02049279, -0.04476684,\n",
       "          0.03920012, -0.04307145, -0.04280405,  0.02180368,\n",
       "          0.00840584,  0.00639045],\n",
       "        [ 0.04676855,  0.04266918, -0.04881584, -0.01976486,\n",
       "         -0.04986755,  0.02827475, -0.01023549, -0.04924753,\n",
       "          0.0136219 ,  0.02512655],\n",
       "        [-0.03847091,  0.0001027 , -0.00229814, -0.0243366 ,\n",
       "         -0.01581237, -0.01794819, -0.02036655,  0.03682034,\n",
       "         -0.0138463 , -0.03453896],\n",
       "        [ 0.02558234,  0.01447082,  0.04627788, -0.0144059 ,\n",
       "          0.03321359,  0.03887353, -0.04656919, -0.00955442,\n",
       "          0.01747913,  0.04244548]]], dtype=float32)"
      ]
     },
     "execution_count": 50,
     "metadata": {},
     "output_type": "execute_result"
    }
   ],
   "source": [
    "model.predict(np.array([embedded_docs[0]]))"
   ]
  },
  {
   "cell_type": "markdown",
   "metadata": {},
   "source": [
    "## So here you go, This is power of word embedding! You can see first sentence has 8 words and each word is represented by a vector of 10 features"
   ]
  }
 ],
 "metadata": {
  "kernelspec": {
   "display_name": "Python 3",
   "language": "python",
   "name": "python3"
  },
  "language_info": {
   "codemirror_mode": {
    "name": "ipython",
    "version": 3
   },
   "file_extension": ".py",
   "mimetype": "text/x-python",
   "name": "python",
   "nbconvert_exporter": "python",
   "pygments_lexer": "ipython3",
   "version": "3.12.0"
  }
 },
 "nbformat": 4,
 "nbformat_minor": 2
}
